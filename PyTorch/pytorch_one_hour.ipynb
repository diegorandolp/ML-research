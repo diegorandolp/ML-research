{
 "cells": [
  {
   "metadata": {},
   "cell_type": "markdown",
   "source": [
    "# PyTorch\n",
    "\n",
    "It is composed by:\n",
    "1. PyTorch tensors = numpy + GPU\n",
    "2. Autograd (automatic differentiation engine) to compute the gradients for tensor operations. Eg: backpropagation.\n",
    "3. Deep learning library that contains pre-trained models, loss functions, etc."
   ],
   "id": "cdbac2ca0f0bd749"
  },
  {
   "metadata": {
    "ExecuteTime": {
     "end_time": "2025-07-19T16:12:18.173574Z",
     "start_time": "2025-07-19T16:12:17.035110Z"
    }
   },
   "cell_type": "code",
   "source": [
    "import torch\n",
    "torch.__version__\n"
   ],
   "id": "ad5095b07147d2df",
   "outputs": [
    {
     "data": {
      "text/plain": [
       "'2.7.0+cu126'"
      ]
     },
     "execution_count": 1,
     "metadata": {},
     "output_type": "execute_result"
    }
   ],
   "execution_count": 1
  },
  {
   "metadata": {
    "ExecuteTime": {
     "end_time": "2025-07-19T16:18:03.642335Z",
     "start_time": "2025-07-19T16:18:01.812121Z"
    }
   },
   "cell_type": "code",
   "source": "print(torch.cuda.is_available())",
   "id": "4688e7e9371a844d",
   "outputs": [
    {
     "name": "stdout",
     "output_type": "stream",
     "text": [
      "True\n"
     ]
    }
   ],
   "execution_count": 2
  },
  {
   "metadata": {
    "ExecuteTime": {
     "end_time": "2025-07-19T16:54:32.722241Z",
     "start_time": "2025-07-19T16:54:32.714614Z"
    }
   },
   "cell_type": "code",
   "source": [
    "# 0D tensor (scalar)\n",
    "tensor0d = torch.tensor(1)\n",
    "print(tensor0d)\n",
    "# 1D tensor (vector)\n",
    "tensor1d = torch.tensor([1, 2, 3])\n",
    "print(tensor1d)\n",
    "# 2D tensor (matrix)\n",
    "tensor2d = torch.tensor([[1, 2], [3, 4]])\n",
    "print(tensor2d)\n",
    "# 3D tensor\n",
    "tensor3d = torch.tensor([[[1, 2], [3, 4]], [[5, 6], [7, 8]]])\n",
    "print(tensor3d)"
   ],
   "id": "6a868c0348c33bad",
   "outputs": [
    {
     "name": "stdout",
     "output_type": "stream",
     "text": [
      "tensor(1)\n",
      "tensor([1, 2, 3])\n",
      "tensor([[1, 2],\n",
      "        [3, 4]])\n",
      "tensor([[[1, 2],\n",
      "         [3, 4]],\n",
      "\n",
      "        [[5, 6],\n",
      "         [7, 8]]])\n"
     ]
    }
   ],
   "execution_count": 4
  },
  {
   "metadata": {
    "ExecuteTime": {
     "end_time": "2025-07-19T16:55:57.223879Z",
     "start_time": "2025-07-19T16:55:57.219773Z"
    }
   },
   "cell_type": "code",
   "source": [
    "# default 64-bit integer\n",
    "print(tensor1d.dtype)"
   ],
   "id": "f63bf91ada160602",
   "outputs": [
    {
     "name": "stdout",
     "output_type": "stream",
     "text": [
      "torch.int64\n"
     ]
    }
   ],
   "execution_count": 5
  },
  {
   "metadata": {
    "ExecuteTime": {
     "end_time": "2025-07-19T16:56:50.357403Z",
     "start_time": "2025-07-19T16:56:50.351885Z"
    }
   },
   "cell_type": "code",
   "source": [
    "# default 32-bit precision\n",
    "floatvec = torch.tensor([1.0, 2.0, 3.0])\n",
    "print(floatvec.dtype)"
   ],
   "id": "2db56ef9e8aa87c4",
   "outputs": [
    {
     "name": "stdout",
     "output_type": "stream",
     "text": [
      "torch.float32\n"
     ]
    }
   ],
   "execution_count": 6
  },
  {
   "metadata": {
    "ExecuteTime": {
     "end_time": "2025-07-19T16:58:59.641769Z",
     "start_time": "2025-07-19T16:58:59.638965Z"
    }
   },
   "cell_type": "code",
   "source": [
    "# change type\n",
    "tensor1d_float = tensor1d.to(torch.float32)\n",
    "print(tensor1d_float.dtype)"
   ],
   "id": "cc467a3e3ded11fe",
   "outputs": [
    {
     "name": "stdout",
     "output_type": "stream",
     "text": [
      "torch.float32\n"
     ]
    }
   ],
   "execution_count": 7
  },
  {
   "metadata": {
    "ExecuteTime": {
     "end_time": "2025-07-19T17:00:17.100318Z",
     "start_time": "2025-07-19T17:00:17.095530Z"
    }
   },
   "cell_type": "code",
   "source": [
    "# shape of a tensor\n",
    "print(tensor0d.shape)\n",
    "print(tensor1d.shape)\n",
    "print(tensor2d.shape)\n",
    "print(tensor3d.shape)"
   ],
   "id": "a4c42fdde2b99c18",
   "outputs": [
    {
     "name": "stdout",
     "output_type": "stream",
     "text": [
      "torch.Size([])\n",
      "torch.Size([3])\n",
      "torch.Size([2, 2])\n",
      "torch.Size([2, 2, 2])\n"
     ]
    }
   ],
   "execution_count": 8
  },
  {
   "metadata": {
    "ExecuteTime": {
     "end_time": "2025-07-19T17:03:03.268705Z",
     "start_time": "2025-07-19T17:03:03.261999Z"
    }
   },
   "cell_type": "code",
   "source": [
    "# reshape a tensor\n",
    "tensor2d.reshape(4, 1)"
   ],
   "id": "86c5c9614139f202",
   "outputs": [
    {
     "data": {
      "text/plain": [
       "tensor([[1],\n",
       "        [2],\n",
       "        [3],\n",
       "        [4]])"
      ]
     },
     "execution_count": 10,
     "metadata": {},
     "output_type": "execute_result"
    }
   ],
   "execution_count": 10
  },
  {
   "metadata": {
    "ExecuteTime": {
     "end_time": "2025-07-19T17:03:27.234043Z",
     "start_time": "2025-07-19T17:03:27.228310Z"
    }
   },
   "cell_type": "code",
   "source": [
    "# reshape a tensor (common method)\n",
    "tensor2d.view(4, 1)"
   ],
   "id": "85712f799d16ae5d",
   "outputs": [
    {
     "data": {
      "text/plain": [
       "tensor([[1],\n",
       "        [2],\n",
       "        [3],\n",
       "        [4]])"
      ]
     },
     "execution_count": 11,
     "metadata": {},
     "output_type": "execute_result"
    }
   ],
   "execution_count": 11
  },
  {
   "metadata": {
    "ExecuteTime": {
     "end_time": "2025-07-19T17:03:48.136099Z",
     "start_time": "2025-07-19T17:03:48.123321Z"
    }
   },
   "cell_type": "code",
   "source": [
    "# Transpose\n",
    "tensor2d.T"
   ],
   "id": "147e923c57a12c00",
   "outputs": [
    {
     "data": {
      "text/plain": [
       "tensor([[1, 3],\n",
       "        [2, 4]])"
      ]
     },
     "execution_count": 12,
     "metadata": {},
     "output_type": "execute_result"
    }
   ],
   "execution_count": 12
  },
  {
   "metadata": {
    "ExecuteTime": {
     "end_time": "2025-07-19T17:05:10.770053Z",
     "start_time": "2025-07-19T17:05:10.761116Z"
    }
   },
   "cell_type": "code",
   "source": [
    "# matmul 1\n",
    "tensor2d.matmul(tensor2d.T)"
   ],
   "id": "e77970fa87b3f102",
   "outputs": [
    {
     "data": {
      "text/plain": [
       "tensor([[ 5, 11],\n",
       "        [11, 25]])"
      ]
     },
     "execution_count": 13,
     "metadata": {},
     "output_type": "execute_result"
    }
   ],
   "execution_count": 13
  },
  {
   "metadata": {
    "ExecuteTime": {
     "end_time": "2025-07-19T17:05:40.101808Z",
     "start_time": "2025-07-19T17:05:40.095706Z"
    }
   },
   "cell_type": "code",
   "source": [
    "# matmul 2\n",
    "tensor2d @ tensor2d.T"
   ],
   "id": "2b182f1ef034dbf",
   "outputs": [
    {
     "data": {
      "text/plain": [
       "tensor([[ 5, 11],\n",
       "        [11, 25]])"
      ]
     },
     "execution_count": 14,
     "metadata": {},
     "output_type": "execute_result"
    }
   ],
   "execution_count": 14
  },
  {
   "metadata": {
    "ExecuteTime": {
     "end_time": "2025-07-19T17:16:36.693355Z",
     "start_time": "2025-07-19T17:16:36.681447Z"
    }
   },
   "cell_type": "code",
   "source": [
    "# Suppose we have a model with the weight w1 and th bias b,\n",
    "# to compute the gradients, pytorch computes a graph in the background\n",
    "# as shown in the following figure\n",
    "import torch.nn.functional as F\n",
    "\n",
    "y = torch.tensor([1.0]) # true label\n",
    "x1 = torch.tensor([1.1]) # input\n",
    "w1 = torch.tensor([2.2]) # weight\n",
    "b = torch.tensor([0.0]) # bias\n",
    "\n",
    "z = x1 * w1 + b\n",
    "a = torch.sigmoid(z) # predicted label\n",
    "\n",
    "loss = F.binary_cross_entropy(a, y)\n",
    "print(\"[a]\", a)\n",
    "print(\"[y]\", y)\n",
    "print(\"[loss]\", loss)"
   ],
   "id": "ee8a4f578fa27827",
   "outputs": [
    {
     "name": "stdout",
     "output_type": "stream",
     "text": [
      "[a] tensor([0.9183])\n",
      "[y] tensor([1.])\n",
      "[loss] tensor(0.0852)\n"
     ]
    }
   ],
   "execution_count": 16
  },
  {
   "metadata": {},
   "cell_type": "markdown",
   "source": [
    "The following figure illustrates the graph of the above 'model'.\n",
    "\n",
    "As long as the final node, in this case `loss = L(a,y)` has the requires_grad attribute set to True, pytorch will build the graph to compute the gradients.\n",
    "\n",
    "The way pytorch compute the gradients is from right to left, called backpropagation, it starts from the output layer (loss) and goes backward to the input layer.\n",
    "\n",
    "In this way, pytorch computes the gradient of the loss respect to each parameter (weights and biases) to update these parameters during training.\n",
    "\n",
    "![pytorch_automatic_differentiation.png](./images/pytorch_automatic_differentiation.png)\n"
   ],
   "id": "cd09748e18b4c1b3"
  },
  {
   "metadata": {
    "ExecuteTime": {
     "end_time": "2025-07-19T17:55:22.448040Z",
     "start_time": "2025-07-19T17:55:22.435653Z"
    }
   },
   "cell_type": "code",
   "source": [
    "# in the previous code the code pytorch didn't build the graph\n",
    "# because there were no terminal nodes with the requires_grad\n",
    "# as True. In this code, the graph is built\n",
    "import torch.nn.functional as F\n",
    "from torch.autograd import grad\n",
    "\n",
    "y = torch.tensor([1.0])\n",
    "x1 = torch.tensor([1.1])\n",
    "w1 = torch.tensor([2.2], requires_grad=True)\n",
    "b = torch.tensor([0.0], requires_grad=True)\n",
    "\n",
    "z = x1 * w1 + b\n",
    "a = torch.sigmoid(z)\n",
    "\n",
    "loss = F.binary_cross_entropy(a, y)\n",
    "# by default, the graph is deleted after the gradients are computed\n",
    "# we retain it to use it later\n",
    "grad_L_w1 = grad(loss, w1, retain_graph=True)\n",
    "grad_L_b = grad(loss, b, retain_graph=True)\n",
    "\n",
    "print(grad_L_w1)\n",
    "print(grad_L_b)"
   ],
   "id": "dc0c694d69e7254f",
   "outputs": [
    {
     "name": "stdout",
     "output_type": "stream",
     "text": [
      "(tensor([-0.0898]),)\n",
      "(tensor([-0.0817]),)\n"
     ]
    }
   ],
   "execution_count": 17
  },
  {
   "metadata": {
    "ExecuteTime": {
     "end_time": "2025-07-19T17:59:46.786473Z",
     "start_time": "2025-07-19T17:59:46.780413Z"
    }
   },
   "cell_type": "code",
   "source": [
    "# anyway, the common way to compute the gradients is using the\n",
    "# method backward, the results will be stored in the grad attribute\n",
    "loss.backward()\n",
    "print(w1.grad)\n",
    "print(b.grad)"
   ],
   "id": "2bbe6b911dfc8e4a",
   "outputs": [
    {
     "name": "stdout",
     "output_type": "stream",
     "text": [
      "tensor([-0.0898])\n",
      "tensor([-0.0817])\n"
     ]
    }
   ],
   "execution_count": 18
  }
 ],
 "metadata": {
  "kernelspec": {
   "display_name": "Python 3",
   "language": "python",
   "name": "python3"
  },
  "language_info": {
   "codemirror_mode": {
    "name": "ipython",
    "version": 2
   },
   "file_extension": ".py",
   "mimetype": "text/x-python",
   "name": "python",
   "nbconvert_exporter": "python",
   "pygments_lexer": "ipython2",
   "version": "2.7.6"
  }
 },
 "nbformat": 4,
 "nbformat_minor": 5
}
